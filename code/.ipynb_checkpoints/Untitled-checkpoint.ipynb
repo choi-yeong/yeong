{
 "cells": [
  {
   "cell_type": "code",
   "execution_count": 4,
   "id": "a25a7794-c482-4c4a-8e8f-1bf928334f2b",
   "metadata": {
    "scrolled": true
   },
   "outputs": [
    {
     "data": {
      "text/plain": [
       "'Hello Jupyter'"
      ]
     },
     "execution_count": 4,
     "metadata": {},
     "output_type": "execute_result"
    }
   ],
   "source": [
    "massage=\"Hello Jupyter\"\n",
    "#print(massage)\n",
    "massage"
   ]
  },
  {
   "cell_type": "code",
   "execution_count": 9,
   "id": "aada4bc3-4492-42b3-9345-725a48b8da06",
   "metadata": {},
   "outputs": [
    {
     "ename": "TypeError",
     "evalue": "math.ceil() takes exactly one argument (2 given)",
     "output_type": "error",
     "traceback": [
      "\u001b[1;31m---------------------------------------------------------------------------\u001b[0m",
      "\u001b[1;31mTypeError\u001b[0m                                 Traceback (most recent call last)",
      "Cell \u001b[1;32mIn[9], line 3\u001b[0m\n\u001b[0;32m      1\u001b[0m \u001b[38;5;28;01mimport\u001b[39;00m \u001b[38;5;21;01mmath\u001b[39;00m\n\u001b[0;32m      2\u001b[0m \u001b[38;5;28;01mimport\u001b[39;00m \u001b[38;5;21;01mrandom\u001b[39;00m\n\u001b[1;32m----> 3\u001b[0m v1\u001b[38;5;241m=\u001b[39mmath\u001b[38;5;241m.\u001b[39mceil(\u001b[38;5;241m12\u001b[39m,\u001b[38;5;241m56\u001b[39m)\n\u001b[0;32m      4\u001b[0m v1\n",
      "\u001b[1;31mTypeError\u001b[0m: math.ceil() takes exactly one argument (2 given)"
     ]
    }
   ],
   "source": [
    "import math\n",
    "import random\n",
    "v1 = math.ceil(12,56)\n",
    "print(v1)"
   ]
  }
 ],
 "metadata": {
  "kernelspec": {
   "display_name": "Python 3 (ipykernel)",
   "language": "python",
   "name": "python3"
  },
  "language_info": {
   "codemirror_mode": {
    "name": "ipython",
    "version": 3
   },
   "file_extension": ".py",
   "mimetype": "text/x-python",
   "name": "python",
   "nbconvert_exporter": "python",
   "pygments_lexer": "ipython3",
   "version": "3.12.7"
  }
 },
 "nbformat": 4,
 "nbformat_minor": 5
}
