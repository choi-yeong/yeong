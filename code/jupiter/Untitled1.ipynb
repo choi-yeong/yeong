{
 "cells": [
  {
   "cell_type": "code",
   "execution_count": 2,
   "id": "202d7908-b964-458b-bdf2-f961d1c748f2",
   "metadata": {},
   "outputs": [
    {
     "name": "stdout",
     "output_type": "stream",
     "text": [
      "Requirement already satisfied: requests in c:\\users\\redblonze\\appdata\\local\\anaconda3\\envs\\sf8\\lib\\site-packages (2.32.3)\n",
      "Requirement already satisfied: charset-normalizer<4,>=2 in c:\\users\\redblonze\\appdata\\local\\anaconda3\\envs\\sf8\\lib\\site-packages (from requests) (3.3.2)\n",
      "Requirement already satisfied: idna<4,>=2.5 in c:\\users\\redblonze\\appdata\\local\\anaconda3\\envs\\sf8\\lib\\site-packages (from requests) (3.7)\n",
      "Requirement already satisfied: urllib3<3,>=1.21.1 in c:\\users\\redblonze\\appdata\\local\\anaconda3\\envs\\sf8\\lib\\site-packages (from requests) (2.2.3)\n",
      "Requirement already satisfied: certifi>=2017.4.17 in c:\\users\\redblonze\\appdata\\local\\anaconda3\\envs\\sf8\\lib\\site-packages (from requests) (2024.12.14)\n"
     ]
    }
   ],
   "source": [
    "!pip install requests"
   ]
  },
  {
   "cell_type": "code",
   "execution_count": null,
   "id": "4ddd7b52-3adc-4144-99fa-af0194a90200",
   "metadata": {},
   "outputs": [],
   "source": []
  }
 ],
 "metadata": {
  "kernelspec": {
   "display_name": "kdt_sf8",
   "language": "python",
   "name": "kdt_sf8"
  },
  "language_info": {
   "codemirror_mode": {
    "name": "ipython",
    "version": 3
   },
   "file_extension": ".py",
   "mimetype": "text/x-python",
   "name": "python",
   "nbconvert_exporter": "python",
   "pygments_lexer": "ipython3",
   "version": "3.12.8"
  }
 },
 "nbformat": 4,
 "nbformat_minor": 5
}
