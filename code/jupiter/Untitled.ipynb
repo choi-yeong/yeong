{
 "cells": [
  {
   "cell_type": "code",
   "execution_count": 1,
   "id": "9603d6fb-0b33-469d-a34f-3f8f87acfbc8",
   "metadata": {},
   "outputs": [
    {
     "name": "stdout",
     "output_type": "stream",
     "text": [
      "Hello lab\n"
     ]
    }
   ],
   "source": [
    "print(\"Hello lab\")"
   ]
  },
  {
   "cell_type": "code",
   "execution_count": null,
   "id": "9667c27c-758d-408a-b21c-15383439418f",
   "metadata": {},
   "outputs": [],
   "source": [
    "import math"
   ]
  }
 ],
 "metadata": {
  "kernelspec": {
   "display_name": "Python 3 (ipykernel)",
   "language": "python",
   "name": "python3"
  },
  "language_info": {
   "codemirror_mode": {
    "name": "ipython",
    "version": 3
   },
   "file_extension": ".py",
   "mimetype": "text/x-python",
   "name": "python",
   "nbconvert_exporter": "python",
   "pygments_lexer": "ipython3",
   "version": "3.12.8"
  }
 },
 "nbformat": 4,
 "nbformat_minor": 5
}
